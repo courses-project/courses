{
 "cells": [
  {
   "cell_type": "raw",
   "source": [
    "title: Notebook"
   ],
   "metadata": {
    "collapsed": false
   },
   "id": "26d87134b312913c"
  },
  {
   "cell_type": "markdown",
   "source": [
    "# Title\n",
    "\n",
    "#card(X, color=primary){\n",
    "body\n",
    "}"
   ],
   "metadata": {
    "collapsed": false
   },
   "id": "a1b686b9b3237285"
  },
  {
   "cell_type": "code",
   "execution_count": 1,
   "outputs": [],
   "source": [
    "def code():\n",
    "    ..."
   ],
   "metadata": {
    "collapsed": false,
    "ExecuteTime": {
     "end_time": "2023-09-16T14:17:11.901424Z",
     "start_time": "2023-09-16T14:17:11.882424400Z"
    }
   },
   "id": "b2fd986e25ee62da"
  },
  {
   "cell_type": "markdown",
   "source": [
    "## Subtitle\n",
    "\n",
    "sdfsd"
   ],
   "metadata": {
    "collapsed": false
   },
   "id": "596261d46731992f"
  },
  {
   "cell_type": "code",
   "execution_count": null,
   "outputs": [],
   "source": [],
   "metadata": {
    "collapsed": false
   },
   "id": "e5f4626e721cefb0"
  }
 ],
 "metadata": {
  "kernelspec": {
   "display_name": "Python 3",
   "language": "python",
   "name": "python3"
  },
  "language_info": {
   "codemirror_mode": {
    "name": "ipython",
    "version": 2
   },
   "file_extension": ".py",
   "mimetype": "text/x-python",
   "name": "python",
   "nbconvert_exporter": "python",
   "pygments_lexer": "ipython2",
   "version": "2.7.6"
  }
 },
 "nbformat": 4,
 "nbformat_minor": 5
}
